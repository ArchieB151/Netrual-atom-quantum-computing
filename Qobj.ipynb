{
 "cells": [
  {
   "cell_type": "code",
   "execution_count": 101,
   "metadata": {},
   "outputs": [
    {
     "name": "stdout",
     "output_type": "stream",
     "text": [
      "Quantum object: dims = [[5], [1]], shape = (5, 1), type = ket\n",
      "Qobj data =\n",
      "[[1.]\n",
      " [0.]\n",
      " [0.]\n",
      " [0.]\n",
      " [0.]]\n"
     ]
    }
   ],
   "source": [
    "import matplotlib.pyplot as plt\n",
    "import numpy as np\n",
    "from qutip import *\n",
    "\n",
    "vac = basis(5,0)\n",
    "print(vac)\n"
   ]
  },
  {
   "cell_type": "code",
   "execution_count": 102,
   "metadata": {},
   "outputs": [],
   "source": [
    "a = destroy(5)"
   ]
  },
  {
   "cell_type": "code",
   "execution_count": 103,
   "metadata": {},
   "outputs": [
    {
     "name": "stdout",
     "output_type": "stream",
     "text": [
      "Quantum object: dims = [[5], [1]], shape = (5, 1), type = ket\n",
      "Qobj data =\n",
      "[[0.]\n",
      " [1.]\n",
      " [0.]\n",
      " [0.]\n",
      " [0.]]\n",
      "Quantum object: dims = [[5], [1]], shape = (5, 1), type = ket\n",
      "Qobj data =\n",
      "[[0.]\n",
      " [0.]\n",
      " [1.]\n",
      " [0.]\n",
      " [0.]]\n"
     ]
    }
   ],
   "source": [
    "\n",
    "print(a.dag() * vac ) \n",
    "\n",
    "ket = basis(5,2)\n",
    "print(ket)\n",
    "\n"
   ]
  },
  {
   "cell_type": "code",
   "execution_count": 104,
   "metadata": {},
   "outputs": [
    {
     "name": "stdout",
     "output_type": "stream",
     "text": [
      "Quantum object: dims = [[5], [1]], shape = (5, 1), type = ket\n",
      "Qobj data =\n",
      "[[0.]\n",
      " [0.]\n",
      " [2.]\n",
      " [0.]\n",
      " [0.]]\n",
      "Quantum object: dims = [[5], [1]], shape = (5, 1), type = ket\n",
      "Qobj data =\n",
      "[[0.70710678]\n",
      " [0.70710678]\n",
      " [0.        ]\n",
      " [0.        ]\n",
      " [0.        ]]\n"
     ]
    }
   ],
   "source": [
    "n = num(5)\n",
    "print(n*ket)\n",
    "\n",
    "\n",
    "ket2 = (basis(5,0)+ basis(5,1)).unit()\n",
    "print(ket2)"
   ]
  },
  {
   "cell_type": "code",
   "execution_count": 105,
   "metadata": {},
   "outputs": [
    {
     "name": "stdout",
     "output_type": "stream",
     "text": [
      "Quantum object: dims = [[5], [1]], shape = (5, 1), type = ket\n",
      "Qobj data =\n",
      "[[ 0.60655682+0.j        ]\n",
      " [ 0.        +0.60628133j]\n",
      " [-0.4303874 +0.j        ]\n",
      " [ 0.        -0.24104351j]\n",
      " [ 0.14552147+0.j        ]]\n"
     ]
    }
   ],
   "source": [
    "vac3 = basis(5,0)\n",
    "d = displace(5, 1j)\n",
    "s= squeeze(5, complex(0.25,0.25))\n",
    "print(d*vac3)\n"
   ]
  },
  {
   "cell_type": "code",
   "execution_count": 106,
   "metadata": {},
   "outputs": [
    {
     "name": "stdout",
     "output_type": "stream",
     "text": [
      "Quantum object: dims = [[5], [5]], shape = (5, 5), type = oper, isherm = True\n",
      "Qobj data =\n",
      "[[0. 0. 0. 0. 0.]\n",
      " [0. 0. 0. 0. 0.]\n",
      " [0. 0. 1. 0. 0.]\n",
      " [0. 0. 0. 0. 0.]\n",
      " [0. 0. 0. 0. 0.]]\n"
     ]
    }
   ],
   "source": [
    "ket = basis(5,2)\n",
    "print(ket*ket.dag())"
   ]
  },
  {
   "cell_type": "code",
   "execution_count": 107,
   "metadata": {},
   "outputs": [
    {
     "name": "stdout",
     "output_type": "stream",
     "text": [
      "Quantum object: dims = [[5], [5]], shape = (5, 5), type = oper, isherm = True\n",
      "Qobj data =\n",
      "[[0.  0.  0.  0.  0. ]\n",
      " [0.  0.  0.  0.  0. ]\n",
      " [0.  0.  0.5 0.  0. ]\n",
      " [0.  0.  0.  0.  0. ]\n",
      " [0.  0.  0.  0.  0.5]]\n"
     ]
    }
   ],
   "source": [
    "k = (ket2dm(basis(5,4))+ket2dm(basis(5,2))).unit()\n",
    "print(k)"
   ]
  },
  {
   "cell_type": "code",
   "execution_count": 111,
   "metadata": {},
   "outputs": [],
   "source": [
    "x = coherent_dm(5, 1.25)\n",
    "y = coherent_dm(5, complex(0,1.25))\n",
    "np.testing.assert_almost_equal(tracedist(y,x),np.sqrt(1-fidelity(y,x)**2))\n"
   ]
  },
  {
   "cell_type": "code",
   "execution_count": 117,
   "metadata": {},
   "outputs": [
    {
     "name": "stdout",
     "output_type": "stream",
     "text": [
      "Quantum object: dims = [[2], [1]], shape = (2, 1), type = ket\n",
      "Qobj data =\n",
      "[[0.]\n",
      " [1.]]\n",
      "Quantum object: dims = [[2], [2]], shape = (2, 2), type = oper, isherm = True\n",
      "Qobj data =\n",
      "[[ 1.  0.]\n",
      " [ 0. -1.]]\n"
     ]
    }
   ],
   "source": [
    "spin = basis(2,0)\n",
    "vac = basis(2,0)\n",
    "\n",
    "c = create(2)\n",
    "\n",
    "print(c*vac)\n",
    "\n",
    "print(sigmaz())"
   ]
  },
  {
   "cell_type": "code",
   "execution_count": 123,
   "metadata": {},
   "outputs": [],
   "source": [
    "vac = basis(5,0)\n",
    "one = basis(5,1)\n",
    "c = create(5)\n",
    "N = num(5)\n",
    "np.testing.assert_almost_equal(expect(N, vac),0)\n",
    "np.testing.assert_almost_equal(expect(N, one),1)\n",
    "coh = coherent_dm(5, 1j)\n",
    "np.testing.assert_almost_equal(expect(N, coh),0.997055574580659)\n",
    "cat = (basis(5,4) + 1j*basis(5,3)).unit()\n",
    "np.testing.assert_almost_equal(expect(c,cat),0.99999999999998j)"
   ]
  },
  {
   "cell_type": "code",
   "execution_count": 125,
   "metadata": {},
   "outputs": [
    {
     "name": "stdout",
     "output_type": "stream",
     "text": [
      "[0. 1. 2. 3. 4.]\n"
     ]
    }
   ],
   "source": [
    "states = [(c**k*vac).unit() for k in range(5)]\n",
    "print(expect(N,states))"
   ]
  },
  {
   "cell_type": "code",
   "execution_count": 129,
   "metadata": {},
   "outputs": [
    {
     "name": "stdout",
     "output_type": "stream",
     "text": [
      "[ 0.+0.j  0.+1.j -1.+0.j  0.-1.j]\n"
     ]
    }
   ],
   "source": [
    "cat_list = [(basis(5,4)+x*basis(5,3)).unit() for x in [0, 1j, -1, -1j] ]\n",
    "print(expect(c,cat_list))"
   ]
  },
  {
   "cell_type": "code",
   "execution_count": 141,
   "metadata": {},
   "outputs": [
    {
     "name": "stdout",
     "output_type": "stream",
     "text": [
      "Quantum object: dims = [[2, 2], [2, 2]], shape = (4, 4), type = oper, isherm = True\n",
      "Qobj data =\n",
      "[[ 1.  0.  0.  0.]\n",
      " [ 0.  1.  0.  0.]\n",
      " [ 0.  0. -1.  0.]\n",
      " [ 0.  0.  0. -1.]] Quantum object: dims = [[2, 2], [2, 2]], shape = (4, 4), type = oper, isherm = True\n",
      "Qobj data =\n",
      "[[ 1.  0.  0.  0.]\n",
      " [ 0. -1.  0.  0.]\n",
      " [ 0.  0.  1.  0.]\n",
      " [ 0.  0.  0. -1.]]\n"
     ]
    }
   ],
   "source": [
    "up = basis(2,0)\n",
    "down = basis(2,1)\n",
    "np.testing.assert_almost_equal(expect(sigmaz(),up),1)\n",
    "\n",
    "spin1 = basis(2,0)\n",
    "spin2 = basis(2,1)\n",
    "\n",
    "two_spin = tensor(spin1,spin2)\n",
    "sz1 = tensor(sigmaz(),qeye(2))\n",
    "sz2 = tensor(qeye(2),sigmaz())\n",
    "print(sz1,sz2)\n"
   ]
  },
  {
   "cell_type": "code",
   "execution_count": 143,
   "metadata": {},
   "outputs": [
    {
     "name": "stdout",
     "output_type": "stream",
     "text": [
      "Quantum object: dims = [[2], [1]], shape = (2, 1), type = ket\n",
      "Qobj data =\n",
      "[[1.]\n",
      " [0.]] Quantum object: dims = [[2], [2]], shape = (2, 2), type = oper, isherm = True\n",
      "Qobj data =\n",
      "[[1. 0.]\n",
      " [0. 0.]]\n"
     ]
    }
   ],
   "source": [
    "psi = basis(2,0)\n",
    "rho = ket2dm(psi)\n",
    "print(psi,rho)"
   ]
  },
  {
   "cell_type": "code",
   "execution_count": 147,
   "metadata": {},
   "outputs": [
    {
     "name": "stdout",
     "output_type": "stream",
     "text": [
      "Quantum object: dims = [[[2], [2]], [[2], [2]]], shape = (4, 4), type = super, isherm = True\n",
      "Qobj data =\n",
      "[[0. 0. 0. 1.]\n",
      " [0. 0. 1. 0.]\n",
      " [0. 1. 0. 0.]\n",
      " [1. 0. 0. 0.]]\n"
     ]
    }
   ],
   "source": [
    "X = sigmax()\n",
    "\n",
    "S = spre(X)*spost(X.dag())\n",
    "\n",
    "print(S)"
   ]
  },
  {
   "cell_type": "code",
   "execution_count": 152,
   "metadata": {},
   "outputs": [
    {
     "name": "stdout",
     "output_type": "stream",
     "text": [
      "Quantum object: dims = [[2, 5], [2, 5]], shape = (10, 10), type = oper, isherm = True\n",
      "Qobj data =\n",
      "[[ 0.5         0.          0.          0.          0.          0.\n",
      "   0.          0.          0.          0.        ]\n",
      " [ 0.          1.75        0.          0.          0.          0.05\n",
      "   0.          0.          0.          0.        ]\n",
      " [ 0.          0.          3.          0.          0.          0.\n",
      "   0.07071068  0.          0.          0.        ]\n",
      " [ 0.          0.          0.          4.25        0.          0.\n",
      "   0.          0.08660254  0.          0.        ]\n",
      " [ 0.          0.          0.          0.          5.5         0.\n",
      "   0.          0.          0.1         0.        ]\n",
      " [ 0.          0.05        0.          0.          0.         -0.5\n",
      "   0.          0.          0.          0.        ]\n",
      " [ 0.          0.          0.07071068  0.          0.          0.\n",
      "   0.75        0.          0.          0.        ]\n",
      " [ 0.          0.          0.          0.08660254  0.          0.\n",
      "   0.          2.          0.          0.        ]\n",
      " [ 0.          0.          0.          0.          0.1         0.\n",
      "   0.          0.          3.25        0.        ]\n",
      " [ 0.          0.          0.          0.          0.          0.\n",
      "   0.          0.          0.          4.5       ]]\n"
     ]
    }
   ],
   "source": [
    "N = 5 \n",
    "omega_a = 1\n",
    "omega_c = 1.25\n",
    "g = 0.05\n",
    "\n",
    "a = tensor(identity(2),destroy(N))\n",
    "sm = tensor(destroy(2), identity(N))\n",
    "sz = tensor(sigmaz(), identity(N))\n",
    "\n",
    "H= 0.5*omega_a*sz + omega_c*a.dag()*a + g*(a.dag()*sm+a*sm.dag())\n",
    "print(H)"
   ]
  },
  {
   "cell_type": "code",
   "execution_count": 153,
   "metadata": {},
   "outputs": [
    {
     "ename": "NameError",
     "evalue": "name 'result' is not defined",
     "output_type": "error",
     "traceback": [
      "\u001b[0;31m---------------------------------------------------------------------------\u001b[0m",
      "\u001b[0;31mNameError\u001b[0m                                 Traceback (most recent call last)",
      "\u001b[1;32m/Users/archiebaldock/Desktop/Dissertation/Code/Qobj.ipynb Cell 17\u001b[0m in \u001b[0;36m<cell line: 1>\u001b[0;34m()\u001b[0m\n\u001b[0;32m----> <a href='vscode-notebook-cell:/Users/archiebaldock/Desktop/Dissertation/Code/Qobj.ipynb#X22sZmlsZQ%3D%3D?line=0'>1</a>\u001b[0m \u001b[39mprint\u001b[39m(result)\n",
      "\u001b[0;31mNameError\u001b[0m: name 'result' is not defined"
     ]
    }
   ],
   "source": [
    "print(result)"
   ]
  }
 ],
 "metadata": {
  "kernelspec": {
   "display_name": "Python 3.9.12 ('base')",
   "language": "python",
   "name": "python3"
  },
  "language_info": {
   "codemirror_mode": {
    "name": "ipython",
    "version": 3
   },
   "file_extension": ".py",
   "mimetype": "text/x-python",
   "name": "python",
   "nbconvert_exporter": "python",
   "pygments_lexer": "ipython3",
   "version": "3.9.12"
  },
  "orig_nbformat": 4,
  "vscode": {
   "interpreter": {
    "hash": "40d3a090f54c6569ab1632332b64b2c03c39dcf918b08424e98f38b5ae0af88f"
   }
  }
 },
 "nbformat": 4,
 "nbformat_minor": 2
}
